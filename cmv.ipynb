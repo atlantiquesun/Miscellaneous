{
  "nbformat": 4,
  "nbformat_minor": 0,
  "metadata": {
    "colab": {
      "name": "cmv.ipynb",
      "provenance": [],
      "mount_file_id": "1fBzoB_RhlsqKXqSjxGju4G3K5GzEO2-2",
      "authorship_tag": "ABX9TyNlKHbK7N65G4Y1ZSCu2Bfw",
      "include_colab_link": true
    },
    "kernelspec": {
      "name": "python3",
      "display_name": "Python 3"
    },
    "language_info": {
      "name": "python"
    }
  },
  "cells": [
    {
      "cell_type": "markdown",
      "metadata": {
        "id": "view-in-github",
        "colab_type": "text"
      },
      "source": [
        "<a href=\"https://colab.research.google.com/github/atlantiquesun/Miscellaneous/blob/master/cmv.ipynb\" target=\"_parent\"><img src=\"https://colab.research.google.com/assets/colab-badge.svg\" alt=\"Open In Colab\"/></a>"
      ]
    },
    {
      "cell_type": "code",
      "metadata": {
        "id": "nDdTPciY947S"
      },
      "source": [
        "# Section 1\n",
        "import glob\n",
        "import json\n",
        "import logging\n",
        "import bz2\n",
        "\n",
        "# Section 2\n",
        "from datetime import datetime, timezone\n",
        "from dateutil.relativedelta import relativedelta\n",
        "import re\n",
        "import numpy as np\n",
        "import pandas as pd\n",
        "\n",
        "# Section 3\n",
        "from matplotlib import pyplot as plt\n",
        "from matplotlib.ticker import MultipleLocator, FixedLocator"
      ],
      "execution_count": 2,
      "outputs": []
    },
    {
      "cell_type": "markdown",
      "metadata": {
        "id": "wDklE5CzgvUo"
      },
      "source": [
        "# 1. Load Data"
      ]
    },
    {
      "cell_type": "code",
      "metadata": {
        "id": "JjlpG3KHcbm8"
      },
      "source": [
        "# provided code\n",
        "def load_big_jsonlist(fpath):\n",
        "  filenames = glob.glob(fpath)\n",
        "  data = []\n",
        "  for filename in filenames:\n",
        "    logging.info(filename)\n",
        "    with bz2.BZ2File(filename, \"r\") as f:\n",
        "      count = 0\n",
        "      for line in f:\n",
        "        entry = json.loads(line)\n",
        "        data.append(entry)        \n",
        "        count += 1\n",
        "        if count % 1000 == 0:\n",
        "          logging.info(count)\n",
        "    logging.info(\"Loading complete.\")\n",
        "  print('loading complete')\n",
        "  return data"
      ],
      "execution_count": 3,
      "outputs": []
    },
    {
      "cell_type": "code",
      "metadata": {
        "id": "r-ES3AMlcmFJ",
        "colab": {
          "base_uri": "https://localhost:8080/"
        },
        "outputId": "6a3c203e-2be3-468f-c369-4bdc3b57c542"
      },
      "source": [
        "fpath = \"/content/drive/MyDrive/Research/cmv/train_period_data.jsonlist.bz2\"\n",
        "data = load_big_jsonlist(fpath)"
      ],
      "execution_count": 4,
      "outputs": [
        {
          "output_type": "stream",
          "name": "stdout",
          "text": [
            "loading complete\n"
          ]
        }
      ]
    },
    {
      "cell_type": "markdown",
      "metadata": {
        "id": "1efAhqcXgltm"
      },
      "source": [
        "# 2. Data Processing"
      ]
    },
    {
      "cell_type": "code",
      "metadata": {
        "id": "tf11o2MoyfX8"
      },
      "source": [
        "def tree_contains_delta(disc_tree):\n",
        "  '''\n",
        "  Returns True if 'disc_tree' contains a valid delta awarded by its OP; returns False otherwise\n",
        "  '''\n",
        "\n",
        "  # get a list of comments' ids\n",
        "  comments_id = [None]*len(disc_tree['comments']) # store comments' ids\n",
        "  for i in range(len(disc_tree['comments'])):\n",
        "    comments_id[i] = disc_tree['comments'][i]['id']\n",
        "\n",
        "  # map ids to comments for O(1) access of a parent given parent_id\n",
        "  comments_d = dict(zip(comments_id, disc_tree['comments'])) \n",
        "\n",
        "  # 1. linear search to find a DeltaBot's comment that contains \"Confirmed\" \n",
        "  # 2. if found, check if its parent is a comment by OP\n",
        "  op = disc_tree['author']\n",
        "  for id in comments_id:\n",
        "    comment = comments_d[id]\n",
        "    if(('body' in comment.keys()) and (comment['author'] == 'DeltaBot') and ('Confirmed' in comment['body'])):\n",
        "      parent_id = comment['parent_id'].split('_')[1]\n",
        "      if((parent_id in comments_d) and ('author' in comments_d[parent_id].keys()) and (comments_d[parent_id]['author'] == op)):\n",
        "        return True\n",
        "\n",
        "  return False"
      ],
      "execution_count": 5,
      "outputs": []
    },
    {
      "cell_type": "code",
      "metadata": {
        "id": "0QWzt5CbymPX"
      },
      "source": [
        "def std_error(row):\n",
        "  '''\n",
        "  Returns the standard error(%) of the average delta percentage in a month \n",
        "  (each month is represented as a row in pandas.DataFrame)\n",
        "  '''\n",
        "\n",
        "  std_dev = np.sqrt((row[\"delta_count\"]*np.square(1-0.01*row[\"delta_percentage\"]) \n",
        "            + (row[\"tree_count\"]-row[\"delta_count\"])*np.square(0.01*row[\"delta_percentage\"]))/row[\"tree_count\"])\n",
        "  std_error = 100*(std_dev/np.sqrt(row[\"tree_count\"]))\n",
        "  return std_error\n",
        "\n",
        "\n",
        "def get_delta_info(data, start_month=\"2013-02-01\", end_month=\"2015-04-01\"):\n",
        "  '''\n",
        "  Returns a pandas.DataFrame documenting \n",
        "  1. monthly discussion tree count (\"tree_count\")\n",
        "  2. monthly number of trees that contain a valid delta awarded by OPs (\"delta_count\")\n",
        "  3. monthly average delta percentage (\"delta_percentage\") \n",
        "  4. the standard error of monthly average delta percentage (\"std_error\")\n",
        "  '''\n",
        "\n",
        "  # initialize the pandas.DataFrame\n",
        "  start_month = pd.to_datetime(start_month, utc=True)\n",
        "  end_month = pd.to_datetime(end_month, utc=True)\n",
        "  months = pd.date_range(start=start_month, end=end_month, freq=\"MS\")\n",
        "  df = pd.DataFrame(0, index=months, columns=[\"tree_count\", \"delta_count\", \"delta_percentage\", \"std_error\"])\n",
        "\n",
        "  # generate monthly discussion tree count and monthly number of trees that contain a valid delta from OPs\n",
        "  for disc_tree in data:\n",
        "\n",
        "    created_date = datetime.utcfromtimestamp(disc_tree[\"created_utc\"])\n",
        "    created_month = created_date.replace(day=1, hour=0, minute=0, second=0, microsecond=0, tzinfo=timezone.utc) # get the start of the corresponding month\n",
        "    \n",
        "    if(created_month >= start_month and created_month <= end_month):\n",
        "      df.at[created_month, \"tree_count\"] += 1\n",
        "    else:\n",
        "      continue\n",
        "\n",
        "    if(tree_contains_delta(disc_tree)):\n",
        "      df.at[created_month, \"delta_count\"] += 1\n",
        "  \n",
        "  # calculate delta percentage and standard error\n",
        "  df[\"delta_percentage\"] = 100*(df[\"delta_count\"]/df[\"tree_count\"])\n",
        "  df[\"std_error\"] = df.apply(std_error, axis=1)\n",
        "  \n",
        "  df.index = [t.strftime(\"%Y%m\") for t in list(df.index)]\n",
        "  return df\n"
      ],
      "execution_count": 6,
      "outputs": []
    },
    {
      "cell_type": "code",
      "metadata": {
        "colab": {
          "base_uri": "https://localhost:8080/",
          "height": 886
        },
        "id": "N2vPkJ_jNpgL",
        "outputId": "4710e0c6-a1fe-4cf0-8bda-942b5ac9de42"
      },
      "source": [
        "df = get_delta_info(data)\n",
        "display(df)"
      ],
      "execution_count": 7,
      "outputs": [
        {
          "output_type": "display_data",
          "data": {
            "text/html": [
              "<div>\n",
              "<style scoped>\n",
              "    .dataframe tbody tr th:only-of-type {\n",
              "        vertical-align: middle;\n",
              "    }\n",
              "\n",
              "    .dataframe tbody tr th {\n",
              "        vertical-align: top;\n",
              "    }\n",
              "\n",
              "    .dataframe thead th {\n",
              "        text-align: right;\n",
              "    }\n",
              "</style>\n",
              "<table border=\"1\" class=\"dataframe\">\n",
              "  <thead>\n",
              "    <tr style=\"text-align: right;\">\n",
              "      <th></th>\n",
              "      <th>tree_count</th>\n",
              "      <th>delta_count</th>\n",
              "      <th>delta_percentage</th>\n",
              "      <th>std_error</th>\n",
              "    </tr>\n",
              "  </thead>\n",
              "  <tbody>\n",
              "    <tr>\n",
              "      <th>201302</th>\n",
              "      <td>111</td>\n",
              "      <td>26</td>\n",
              "      <td>23.423423</td>\n",
              "      <td>4.019867</td>\n",
              "    </tr>\n",
              "    <tr>\n",
              "      <th>201303</th>\n",
              "      <td>263</td>\n",
              "      <td>71</td>\n",
              "      <td>26.996198</td>\n",
              "      <td>2.737450</td>\n",
              "    </tr>\n",
              "    <tr>\n",
              "      <th>201304</th>\n",
              "      <td>585</td>\n",
              "      <td>150</td>\n",
              "      <td>25.641026</td>\n",
              "      <td>1.805329</td>\n",
              "    </tr>\n",
              "    <tr>\n",
              "      <th>201305</th>\n",
              "      <td>1115</td>\n",
              "      <td>229</td>\n",
              "      <td>20.538117</td>\n",
              "      <td>1.209824</td>\n",
              "    </tr>\n",
              "    <tr>\n",
              "      <th>201306</th>\n",
              "      <td>1029</td>\n",
              "      <td>224</td>\n",
              "      <td>21.768707</td>\n",
              "      <td>1.286468</td>\n",
              "    </tr>\n",
              "    <tr>\n",
              "      <th>201307</th>\n",
              "      <td>716</td>\n",
              "      <td>148</td>\n",
              "      <td>20.670391</td>\n",
              "      <td>1.513336</td>\n",
              "    </tr>\n",
              "    <tr>\n",
              "      <th>201308</th>\n",
              "      <td>959</td>\n",
              "      <td>184</td>\n",
              "      <td>19.186653</td>\n",
              "      <td>1.271545</td>\n",
              "    </tr>\n",
              "    <tr>\n",
              "      <th>201309</th>\n",
              "      <td>748</td>\n",
              "      <td>154</td>\n",
              "      <td>20.588235</td>\n",
              "      <td>1.478431</td>\n",
              "    </tr>\n",
              "    <tr>\n",
              "      <th>201310</th>\n",
              "      <td>669</td>\n",
              "      <td>148</td>\n",
              "      <td>22.122571</td>\n",
              "      <td>1.604762</td>\n",
              "    </tr>\n",
              "    <tr>\n",
              "      <th>201311</th>\n",
              "      <td>730</td>\n",
              "      <td>145</td>\n",
              "      <td>19.863014</td>\n",
              "      <td>1.476650</td>\n",
              "    </tr>\n",
              "    <tr>\n",
              "      <th>201312</th>\n",
              "      <td>732</td>\n",
              "      <td>149</td>\n",
              "      <td>20.355191</td>\n",
              "      <td>1.488198</td>\n",
              "    </tr>\n",
              "    <tr>\n",
              "      <th>201401</th>\n",
              "      <td>836</td>\n",
              "      <td>171</td>\n",
              "      <td>20.454545</td>\n",
              "      <td>1.395081</td>\n",
              "    </tr>\n",
              "    <tr>\n",
              "      <th>201402</th>\n",
              "      <td>780</td>\n",
              "      <td>179</td>\n",
              "      <td>22.948718</td>\n",
              "      <td>1.505642</td>\n",
              "    </tr>\n",
              "    <tr>\n",
              "      <th>201403</th>\n",
              "      <td>883</td>\n",
              "      <td>205</td>\n",
              "      <td>23.216308</td>\n",
              "      <td>1.420858</td>\n",
              "    </tr>\n",
              "    <tr>\n",
              "      <th>201404</th>\n",
              "      <td>818</td>\n",
              "      <td>179</td>\n",
              "      <td>21.882641</td>\n",
              "      <td>1.445596</td>\n",
              "    </tr>\n",
              "    <tr>\n",
              "      <th>201405</th>\n",
              "      <td>832</td>\n",
              "      <td>184</td>\n",
              "      <td>22.115385</td>\n",
              "      <td>1.438836</td>\n",
              "    </tr>\n",
              "    <tr>\n",
              "      <th>201406</th>\n",
              "      <td>760</td>\n",
              "      <td>182</td>\n",
              "      <td>23.947368</td>\n",
              "      <td>1.548029</td>\n",
              "    </tr>\n",
              "    <tr>\n",
              "      <th>201407</th>\n",
              "      <td>708</td>\n",
              "      <td>213</td>\n",
              "      <td>30.084746</td>\n",
              "      <td>1.723624</td>\n",
              "    </tr>\n",
              "    <tr>\n",
              "      <th>201408</th>\n",
              "      <td>667</td>\n",
              "      <td>208</td>\n",
              "      <td>31.184408</td>\n",
              "      <td>1.793698</td>\n",
              "    </tr>\n",
              "    <tr>\n",
              "      <th>201409</th>\n",
              "      <td>556</td>\n",
              "      <td>168</td>\n",
              "      <td>30.215827</td>\n",
              "      <td>1.947414</td>\n",
              "    </tr>\n",
              "    <tr>\n",
              "      <th>201410</th>\n",
              "      <td>602</td>\n",
              "      <td>182</td>\n",
              "      <td>30.232558</td>\n",
              "      <td>1.871827</td>\n",
              "    </tr>\n",
              "    <tr>\n",
              "      <th>201411</th>\n",
              "      <td>503</td>\n",
              "      <td>149</td>\n",
              "      <td>29.622266</td>\n",
              "      <td>2.035836</td>\n",
              "    </tr>\n",
              "    <tr>\n",
              "      <th>201412</th>\n",
              "      <td>555</td>\n",
              "      <td>174</td>\n",
              "      <td>31.351351</td>\n",
              "      <td>1.969235</td>\n",
              "    </tr>\n",
              "    <tr>\n",
              "      <th>201501</th>\n",
              "      <td>410</td>\n",
              "      <td>152</td>\n",
              "      <td>37.073171</td>\n",
              "      <td>2.385371</td>\n",
              "    </tr>\n",
              "    <tr>\n",
              "      <th>201502</th>\n",
              "      <td>505</td>\n",
              "      <td>173</td>\n",
              "      <td>34.257426</td>\n",
              "      <td>2.111811</td>\n",
              "    </tr>\n",
              "    <tr>\n",
              "      <th>201503</th>\n",
              "      <td>559</td>\n",
              "      <td>200</td>\n",
              "      <td>35.778175</td>\n",
              "      <td>2.027424</td>\n",
              "    </tr>\n",
              "    <tr>\n",
              "      <th>201504</th>\n",
              "      <td>556</td>\n",
              "      <td>184</td>\n",
              "      <td>33.093525</td>\n",
              "      <td>1.995576</td>\n",
              "    </tr>\n",
              "  </tbody>\n",
              "</table>\n",
              "</div>"
            ],
            "text/plain": [
              "        tree_count  delta_count  delta_percentage  std_error\n",
              "201302         111           26         23.423423   4.019867\n",
              "201303         263           71         26.996198   2.737450\n",
              "201304         585          150         25.641026   1.805329\n",
              "201305        1115          229         20.538117   1.209824\n",
              "201306        1029          224         21.768707   1.286468\n",
              "201307         716          148         20.670391   1.513336\n",
              "201308         959          184         19.186653   1.271545\n",
              "201309         748          154         20.588235   1.478431\n",
              "201310         669          148         22.122571   1.604762\n",
              "201311         730          145         19.863014   1.476650\n",
              "201312         732          149         20.355191   1.488198\n",
              "201401         836          171         20.454545   1.395081\n",
              "201402         780          179         22.948718   1.505642\n",
              "201403         883          205         23.216308   1.420858\n",
              "201404         818          179         21.882641   1.445596\n",
              "201405         832          184         22.115385   1.438836\n",
              "201406         760          182         23.947368   1.548029\n",
              "201407         708          213         30.084746   1.723624\n",
              "201408         667          208         31.184408   1.793698\n",
              "201409         556          168         30.215827   1.947414\n",
              "201410         602          182         30.232558   1.871827\n",
              "201411         503          149         29.622266   2.035836\n",
              "201412         555          174         31.351351   1.969235\n",
              "201501         410          152         37.073171   2.385371\n",
              "201502         505          173         34.257426   2.111811\n",
              "201503         559          200         35.778175   2.027424\n",
              "201504         556          184         33.093525   1.995576"
            ]
          },
          "metadata": {}
        }
      ]
    },
    {
      "cell_type": "markdown",
      "metadata": {
        "id": "7PApxeZgC09H"
      },
      "source": [
        "# 3. Plotting"
      ]
    },
    {
      "cell_type": "code",
      "metadata": {
        "id": "3vtxrYTMC3Mk"
      },
      "source": [
        "def plot_delta_percentage(df, fig_path):\n",
        "  '''\n",
        "  Plot 'df' and save the plot to 'fig_path'\n",
        "  '''\n",
        "\n",
        "  # create a plot\n",
        "  fig, ax = plt.subplots(figsize=(8, 6))\n",
        "  ax.errorbar(x=list(df.index), y=df[\"delta_percentage\"], yerr=df[\"std_error\"], linestyle='-', marker='o', color='r')\n",
        "  \n",
        "  # set xticks\n",
        "  major_xticks = list(range(0, len(list(df.index)), 4)) + [len(list(df.index))-1]\n",
        "  ax.xaxis.set_major_locator(FixedLocator(major_xticks))\n",
        "  ax.xaxis.set_minor_locator(MultipleLocator(1))\n",
        "  ax.tick_params(axis='x', rotation=45, labelsize=14, which=\"both\", direction=\"in\", bottom=True, top=True, labelbottom=True, labeltop=False) \n",
        "\n",
        "  # set yticks\n",
        "  ax.set_yticks([20, 30, 40])\n",
        "  ax.set_yticklabels([\"20%\", \"30%\", \"40%\"])\n",
        "  ax.tick_params(axis='y', labelsize=14) \n",
        "  plt.ylabel(\"delta percentage\", fontsize=14)\n",
        "\n",
        "  ax.margins(x=0.1)\n",
        "  plt.savefig(fig_path, bbox_inches=\"tight\") \n",
        "  plt.show()"
      ],
      "execution_count": 8,
      "outputs": []
    },
    {
      "cell_type": "code",
      "metadata": {
        "colab": {
          "base_uri": "https://localhost:8080/",
          "height": 408
        },
        "id": "_L6rzv40C7kN",
        "outputId": "b2a34dff-5747-441d-fd9e-1331f04baef1"
      },
      "source": [
        "fig_path = \"/content/drive/MyDrive/Research/cmv/delta_percentage.png\"\n",
        "plot_delta_percentage(df, fig_path)"
      ],
      "execution_count": 10,
      "outputs": [
        {
          "output_type": "display_data",
          "data": {
            "image/png": "[encoded data removed]",
            "text/plain": [
              "<Figure size 576x432 with 1 Axes>"
            ]
          },
          "metadata": {
            "needs_background": "light"
          }
        }
      ]
    }
  ]
}