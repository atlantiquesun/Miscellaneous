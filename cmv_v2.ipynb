{
  "nbformat": 4,
  "nbformat_minor": 0,
  "metadata": {
    "colab": {
      "name": "cmv_v2.ipynb",
      "provenance": [],
      "mount_file_id": "13Nn8r9vFDbYmZhOiTZMyH5ZIZIi2uAtv",
      "authorship_tag": "ABX9TyOlh3Ur6vdWj6kknezH1hPO",
      "include_colab_link": true
    },
    "kernelspec": {
      "name": "python3",
      "display_name": "Python 3"
    },
    "language_info": {
      "name": "python"
    }
  },
  "cells": [
    {
      "cell_type": "markdown",
      "metadata": {
        "id": "view-in-github",
        "colab_type": "text"
      },
      "source": [
        "<a href=\"https://colab.research.google.com/github/atlantiquesun/Miscellaneous/blob/master/cmv_v2.ipynb\" target=\"_parent\"><img src=\"https://colab.research.google.com/assets/colab-badge.svg\" alt=\"Open In Colab\"/></a>"
      ]
    },
    {
      "cell_type": "code",
      "metadata": {
        "id": "nDdTPciY947S"
      },
      "source": [
        "# Section 1\n",
        "import glob\n",
        "import json\n",
        "import logging\n",
        "import bz2\n",
        "\n",
        "# Section 2\n",
        "from datetime import datetime, timezone\n",
        "from dateutil.relativedelta import relativedelta\n",
        "import re\n",
        "import numpy as np\n",
        "import pandas as pd\n",
        "\n",
        "# Section 3\n",
        "from matplotlib import pyplot as plt\n",
        "from matplotlib.ticker import MultipleLocator, FixedLocator"
      ],
      "execution_count": 1,
      "outputs": []
    },
    {
      "cell_type": "markdown",
      "metadata": {
        "id": "wDklE5CzgvUo"
      },
      "source": [
        "# 1. Load Data"
      ]
    },
    {
      "cell_type": "code",
      "metadata": {
        "id": "JjlpG3KHcbm8"
      },
      "source": [
        "# provided code\n",
        "def load_big_jsonlist(fpath):\n",
        "  filenames = glob.glob(fpath)\n",
        "  data = []\n",
        "  for filename in filenames:\n",
        "    logging.info(filename)\n",
        "    with bz2.BZ2File(filename, \"r\") as f:\n",
        "      count = 0\n",
        "      for line in f:\n",
        "        entry = json.loads(line)\n",
        "        data.append(entry)        \n",
        "        count += 1\n",
        "        if count % 1000 == 0:\n",
        "          logging.info(count)\n",
        "    logging.info(\"Loading complete.\")\n",
        "  print('loading complete')\n",
        "  return data"
      ],
      "execution_count": 2,
      "outputs": []
    },
    {
      "cell_type": "code",
      "metadata": {
        "colab": {
          "base_uri": "https://localhost:8080/"
        },
        "id": "r-ES3AMlcmFJ",
        "outputId": "70dd1f9e-a949-424e-efc7-8adfe429125e"
      },
      "source": [
        "fpath = \"/content/drive/MyDrive/Research/cmv/train_period_data.jsonlist.bz2\"\n",
        "data = load_big_jsonlist(fpath)"
      ],
      "execution_count": 3,
      "outputs": [
        {
          "output_type": "stream",
          "name": "stdout",
          "text": [
            "loading complete\n"
          ]
        }
      ]
    },
    {
      "cell_type": "markdown",
      "metadata": {
        "id": "1efAhqcXgltm"
      },
      "source": [
        "# 2. Data Processing"
      ]
    },
    {
      "cell_type": "markdown",
      "metadata": {
        "id": "Mb73BFf09Rdu"
      },
      "source": [
        "**2.1 Functions for finding deltas in a string**"
      ]
    },
    {
      "cell_type": "code",
      "metadata": {
        "id": "OBcnEKQf8aqK"
      },
      "source": [
        "'''\n",
        "reference: \n",
        "1. https://github.com/alexames/DeltaBot/blob/master/deltabot/deltabot.py\n",
        "2. https://github.com/alexames/DeltaBot/blob/master/config/config.json.example\n",
        "'''\n",
        "\n",
        "\n",
        "def skippable_line(line):\n",
        "    \"\"\" Returns true if the given line is a quote or code \"\"\"\n",
        "    return re.search('(^    |^ *&gt;)', line) is not None\n",
        "\n",
        "\n",
        "def str_contains_delta(text, tokens=[chr(8710), chr(916), \"&amp;#8710;\", \"!delta\"]):\n",
        "    \"\"\" \n",
        "    Returns true if a given string contains one of the given tokens, as long\n",
        "    as the token is not inside a quote or code block \n",
        "    \"\"\"\n",
        "    lines = text.split('\\n')\n",
        "    in_quote = False\n",
        "    for line in lines:\n",
        "        if not line:  # Empty string\n",
        "            in_quote = False\n",
        "        if in_quote:\n",
        "            continue\n",
        "        if not skippable_line(line):\n",
        "            for token in tokens:\n",
        "                if token in line:\n",
        "                    return True\n",
        "        else:\n",
        "            in_quote = True\n",
        "    return False\n"
      ],
      "execution_count": 4,
      "outputs": []
    },
    {
      "cell_type": "markdown",
      "metadata": {
        "id": "uhxGpIwQ9gm6"
      },
      "source": [
        "**2.2 Functions for determining if the OP awarded a valid delta in a discussion tree**\n",
        "\n"
      ]
    },
    {
      "cell_type": "code",
      "metadata": {
        "id": "gFQd2WINhD9a"
      },
      "source": [
        "def bot_confirms_delta(disc_tree, id):\n",
        "  '''\n",
        "  Returns True if DeltaBot confirmed the delta assignment comment whose id is 'id'; returns False otherwise\n",
        "  '''\n",
        "\n",
        "  for comment in disc_tree[\"comments\"]: \n",
        "    if((\"body\" in comment.keys()) and (comment[\"author\"] == \"DeltaBot\") and (comment[\"parent_id\"].split('_')[1] == id)):\n",
        "      if(\"Confirmed\" in comment[\"body\"]):  \n",
        "        return True\n",
        "\n",
        "  return False\n",
        "\n",
        "\n",
        "def tree_contains_delta(disc_tree):\n",
        "  '''\n",
        "  Returns True if 'disc_tree' contains a valid delta awarded by the OP; returns False otherwise\n",
        "  '''\n",
        "\n",
        "  op = disc_tree[\"author\"]\n",
        "\n",
        "  for comment in disc_tree[\"comments\"]:\n",
        "    if(\"body\" in comment.keys()):\n",
        "      if(comment[\"author\"] == op and str_contains_delta(comment[\"body\"])): # check if the OP awarded a delta\n",
        "        if(bot_confirms_delta(disc_tree, comment[\"id\"])): # check if the delta is valid\n",
        "          return True\n",
        "  \n",
        "  return False"
      ],
      "execution_count": 5,
      "outputs": []
    },
    {
      "cell_type": "markdown",
      "metadata": {
        "id": "K0onRGET-bMI"
      },
      "source": [
        "**2.3 Functions for calculating average delta percentages**"
      ]
    },
    {
      "cell_type": "code",
      "metadata": {
        "id": "0QWzt5CbymPX"
      },
      "source": [
        "def std_error(row):\n",
        "  '''\n",
        "  Returns the standard error(%) of the average delta percentage in a month \n",
        "  (each month is represented as a row in pandas.DataFrame)\n",
        "  '''\n",
        "\n",
        "  std_dev = np.sqrt((row[\"delta_count\"]*np.square(1-0.01*row[\"delta_percentage\"]) \n",
        "            + (row[\"tree_count\"]-row[\"delta_count\"])*np.square(0.01*row[\"delta_percentage\"]))/row[\"tree_count\"])\n",
        "  std_error = 100*(std_dev/np.sqrt(row[\"tree_count\"]))\n",
        "  return std_error\n",
        "\n",
        "\n",
        "def get_delta_info(data, start_month=\"2013-02-01\", end_month=\"2015-04-01\"):\n",
        "  '''\n",
        "  Returns a pandas.DataFrame documenting \n",
        "  1. monthly discussion tree count (\"tree_count\")\n",
        "  2. monthly number of trees that contain a valid delta awarded by OPs (\"delta_count\")\n",
        "  3. monthly average delta percentage (\"delta_percentage\") \n",
        "  4. the standard error of monthly average delta percentage (\"std_error\")\n",
        "  '''\n",
        "\n",
        "  # initialize the pandas.DataFrame\n",
        "  start_month = pd.to_datetime(start_month, utc=True)\n",
        "  end_month = pd.to_datetime(end_month, utc=True)\n",
        "  months = pd.date_range(start=start_month, end=end_month, freq=\"MS\")\n",
        "  df = pd.DataFrame(0, index=months, columns=[\"tree_count\", \"delta_count\", \"delta_percentage\", \"std_error\"])\n",
        "\n",
        "  # generate monthly discussion tree count and monthly number of trees that contain a valid delta from OPs\n",
        "  for disc_tree in data:\n",
        "\n",
        "    created_date = datetime.utcfromtimestamp(disc_tree[\"created_utc\"])\n",
        "    created_month = created_date.replace(day=1, hour=0, minute=0, second=0, microsecond=0, tzinfo=timezone.utc) # get the start of the corresponding month\n",
        "    \n",
        "    if(created_month >= start_month and created_month <= end_month):\n",
        "      df.at[created_month, \"tree_count\"] += 1\n",
        "    else:\n",
        "      continue\n",
        "\n",
        "    if(tree_contains_delta(disc_tree)):\n",
        "      df.at[created_month, \"delta_count\"] += 1\n",
        "  \n",
        "  # calculate delta percentage and standard error\n",
        "  df[\"delta_percentage\"] = 100*(df[\"delta_count\"]/df[\"tree_count\"])\n",
        "  df[\"std_error\"] = df.apply(std_error, axis=1)\n",
        "  \n",
        "  df.index = [t.strftime(\"%Y%m\") for t in list(df.index)]\n",
        "  return df\n"
      ],
      "execution_count": 6,
      "outputs": []
    },
    {
      "cell_type": "code",
      "metadata": {
        "colab": {
          "base_uri": "https://localhost:8080/",
          "height": 886
        },
        "id": "N2vPkJ_jNpgL",
        "outputId": "3ca0f044-a9b5-4197-8d3c-28a3a6e432c3"
      },
      "source": [
        "df = get_delta_info(data)\n",
        "display(df)"
      ],
      "execution_count": 10,
      "outputs": [
        {
          "output_type": "display_data",
          "data": {
            "text/html": [
              "<div>\n",
              "<style scoped>\n",
              "    .dataframe tbody tr th:only-of-type {\n",
              "        vertical-align: middle;\n",
              "    }\n",
              "\n",
              "    .dataframe tbody tr th {\n",
              "        vertical-align: top;\n",
              "    }\n",
              "\n",
              "    .dataframe thead th {\n",
              "        text-align: right;\n",
              "    }\n",
              "</style>\n",
              "<table border=\"1\" class=\"dataframe\">\n",
              "  <thead>\n",
              "    <tr style=\"text-align: right;\">\n",
              "      <th></th>\n",
              "      <th>tree_count</th>\n",
              "      <th>delta_count</th>\n",
              "      <th>delta_percentage</th>\n",
              "      <th>std_error</th>\n",
              "    </tr>\n",
              "  </thead>\n",
              "  <tbody>\n",
              "    <tr>\n",
              "      <th>201302</th>\n",
              "      <td>111</td>\n",
              "      <td>26</td>\n",
              "      <td>23.423423</td>\n",
              "      <td>4.019867</td>\n",
              "    </tr>\n",
              "    <tr>\n",
              "      <th>201303</th>\n",
              "      <td>263</td>\n",
              "      <td>71</td>\n",
              "      <td>26.996198</td>\n",
              "      <td>2.737450</td>\n",
              "    </tr>\n",
              "    <tr>\n",
              "      <th>201304</th>\n",
              "      <td>585</td>\n",
              "      <td>150</td>\n",
              "      <td>25.641026</td>\n",
              "      <td>1.805329</td>\n",
              "    </tr>\n",
              "    <tr>\n",
              "      <th>201305</th>\n",
              "      <td>1115</td>\n",
              "      <td>229</td>\n",
              "      <td>20.538117</td>\n",
              "      <td>1.209824</td>\n",
              "    </tr>\n",
              "    <tr>\n",
              "      <th>201306</th>\n",
              "      <td>1029</td>\n",
              "      <td>224</td>\n",
              "      <td>21.768707</td>\n",
              "      <td>1.286468</td>\n",
              "    </tr>\n",
              "    <tr>\n",
              "      <th>201307</th>\n",
              "      <td>716</td>\n",
              "      <td>147</td>\n",
              "      <td>20.530726</td>\n",
              "      <td>1.509542</td>\n",
              "    </tr>\n",
              "    <tr>\n",
              "      <th>201308</th>\n",
              "      <td>959</td>\n",
              "      <td>182</td>\n",
              "      <td>18.978102</td>\n",
              "      <td>1.266247</td>\n",
              "    </tr>\n",
              "    <tr>\n",
              "      <th>201309</th>\n",
              "      <td>748</td>\n",
              "      <td>154</td>\n",
              "      <td>20.588235</td>\n",
              "      <td>1.478431</td>\n",
              "    </tr>\n",
              "    <tr>\n",
              "      <th>201310</th>\n",
              "      <td>669</td>\n",
              "      <td>148</td>\n",
              "      <td>22.122571</td>\n",
              "      <td>1.604762</td>\n",
              "    </tr>\n",
              "    <tr>\n",
              "      <th>201311</th>\n",
              "      <td>730</td>\n",
              "      <td>142</td>\n",
              "      <td>19.452055</td>\n",
              "      <td>1.465037</td>\n",
              "    </tr>\n",
              "    <tr>\n",
              "      <th>201312</th>\n",
              "      <td>732</td>\n",
              "      <td>149</td>\n",
              "      <td>20.355191</td>\n",
              "      <td>1.488198</td>\n",
              "    </tr>\n",
              "    <tr>\n",
              "      <th>201401</th>\n",
              "      <td>836</td>\n",
              "      <td>167</td>\n",
              "      <td>19.976077</td>\n",
              "      <td>1.382808</td>\n",
              "    </tr>\n",
              "    <tr>\n",
              "      <th>201402</th>\n",
              "      <td>780</td>\n",
              "      <td>177</td>\n",
              "      <td>22.692308</td>\n",
              "      <td>1.499697</td>\n",
              "    </tr>\n",
              "    <tr>\n",
              "      <th>201403</th>\n",
              "      <td>883</td>\n",
              "      <td>204</td>\n",
              "      <td>23.103058</td>\n",
              "      <td>1.418433</td>\n",
              "    </tr>\n",
              "    <tr>\n",
              "      <th>201404</th>\n",
              "      <td>818</td>\n",
              "      <td>178</td>\n",
              "      <td>21.760391</td>\n",
              "      <td>1.442680</td>\n",
              "    </tr>\n",
              "    <tr>\n",
              "      <th>201405</th>\n",
              "      <td>832</td>\n",
              "      <td>181</td>\n",
              "      <td>21.754808</td>\n",
              "      <td>1.430358</td>\n",
              "    </tr>\n",
              "    <tr>\n",
              "      <th>201406</th>\n",
              "      <td>760</td>\n",
              "      <td>182</td>\n",
              "      <td>23.947368</td>\n",
              "      <td>1.548029</td>\n",
              "    </tr>\n",
              "    <tr>\n",
              "      <th>201407</th>\n",
              "      <td>708</td>\n",
              "      <td>213</td>\n",
              "      <td>30.084746</td>\n",
              "      <td>1.723624</td>\n",
              "    </tr>\n",
              "    <tr>\n",
              "      <th>201408</th>\n",
              "      <td>667</td>\n",
              "      <td>207</td>\n",
              "      <td>31.034483</td>\n",
              "      <td>1.791329</td>\n",
              "    </tr>\n",
              "    <tr>\n",
              "      <th>201409</th>\n",
              "      <td>556</td>\n",
              "      <td>167</td>\n",
              "      <td>30.035971</td>\n",
              "      <td>1.944110</td>\n",
              "    </tr>\n",
              "    <tr>\n",
              "      <th>201410</th>\n",
              "      <td>602</td>\n",
              "      <td>181</td>\n",
              "      <td>30.066445</td>\n",
              "      <td>1.868898</td>\n",
              "    </tr>\n",
              "    <tr>\n",
              "      <th>201411</th>\n",
              "      <td>503</td>\n",
              "      <td>149</td>\n",
              "      <td>29.622266</td>\n",
              "      <td>2.035836</td>\n",
              "    </tr>\n",
              "    <tr>\n",
              "      <th>201412</th>\n",
              "      <td>555</td>\n",
              "      <td>174</td>\n",
              "      <td>31.351351</td>\n",
              "      <td>1.969235</td>\n",
              "    </tr>\n",
              "    <tr>\n",
              "      <th>201501</th>\n",
              "      <td>410</td>\n",
              "      <td>152</td>\n",
              "      <td>37.073171</td>\n",
              "      <td>2.385371</td>\n",
              "    </tr>\n",
              "    <tr>\n",
              "      <th>201502</th>\n",
              "      <td>505</td>\n",
              "      <td>173</td>\n",
              "      <td>34.257426</td>\n",
              "      <td>2.111811</td>\n",
              "    </tr>\n",
              "    <tr>\n",
              "      <th>201503</th>\n",
              "      <td>559</td>\n",
              "      <td>200</td>\n",
              "      <td>35.778175</td>\n",
              "      <td>2.027424</td>\n",
              "    </tr>\n",
              "    <tr>\n",
              "      <th>201504</th>\n",
              "      <td>556</td>\n",
              "      <td>183</td>\n",
              "      <td>32.913669</td>\n",
              "      <td>1.992819</td>\n",
              "    </tr>\n",
              "  </tbody>\n",
              "</table>\n",
              "</div>"
            ],
            "text/plain": [
              "        tree_count  delta_count  delta_percentage  std_error\n",
              "201302         111           26         23.423423   4.019867\n",
              "201303         263           71         26.996198   2.737450\n",
              "201304         585          150         25.641026   1.805329\n",
              "201305        1115          229         20.538117   1.209824\n",
              "201306        1029          224         21.768707   1.286468\n",
              "201307         716          147         20.530726   1.509542\n",
              "201308         959          182         18.978102   1.266247\n",
              "201309         748          154         20.588235   1.478431\n",
              "201310         669          148         22.122571   1.604762\n",
              "201311         730          142         19.452055   1.465037\n",
              "201312         732          149         20.355191   1.488198\n",
              "201401         836          167         19.976077   1.382808\n",
              "201402         780          177         22.692308   1.499697\n",
              "201403         883          204         23.103058   1.418433\n",
              "201404         818          178         21.760391   1.442680\n",
              "201405         832          181         21.754808   1.430358\n",
              "201406         760          182         23.947368   1.548029\n",
              "201407         708          213         30.084746   1.723624\n",
              "201408         667          207         31.034483   1.791329\n",
              "201409         556          167         30.035971   1.944110\n",
              "201410         602          181         30.066445   1.868898\n",
              "201411         503          149         29.622266   2.035836\n",
              "201412         555          174         31.351351   1.969235\n",
              "201501         410          152         37.073171   2.385371\n",
              "201502         505          173         34.257426   2.111811\n",
              "201503         559          200         35.778175   2.027424\n",
              "201504         556          183         32.913669   1.992819"
            ]
          },
          "metadata": {}
        }
      ]
    },
    {
      "cell_type": "markdown",
      "metadata": {
        "id": "7PApxeZgC09H"
      },
      "source": [
        "# 3. Plotting"
      ]
    },
    {
      "cell_type": "code",
      "metadata": {
        "id": "3vtxrYTMC3Mk"
      },
      "source": [
        "def plot_delta_percentage(df, fig_path):\n",
        "  '''\n",
        "  Plot 'df' and save the plot to 'fig_path'\n",
        "  '''\n",
        "\n",
        "  # create a plot\n",
        "  fig, ax = plt.subplots(figsize=(8, 6))\n",
        "  ax.errorbar(x=list(df.index), y=df[\"delta_percentage\"], yerr=df[\"std_error\"], linestyle='-', marker='o', color='r')\n",
        "  \n",
        "  # set xticks\n",
        "  major_xticks = list(range(0, len(list(df.index)), 4)) + [len(list(df.index))-1]\n",
        "  ax.xaxis.set_major_locator(FixedLocator(major_xticks))\n",
        "  ax.xaxis.set_minor_locator(MultipleLocator(1))\n",
        "  ax.tick_params(axis='x', rotation=45, labelsize=14, which=\"both\", direction=\"in\", bottom=True, top=True, labelbottom=True, labeltop=False) \n",
        "\n",
        "  # set yticks\n",
        "  ax.set_yticks([20, 30, 40])\n",
        "  ax.set_yticklabels([\"20%\", \"30%\", \"40%\"])\n",
        "  ax.tick_params(axis='y', labelsize=14) \n",
        "  plt.ylabel(\"delta percentage\", fontsize=14)\n",
        "\n",
        "  ax.margins(x=0.1)\n",
        "  plt.savefig(fig_path, bbox_inches=\"tight\") \n",
        "  plt.show()"
      ],
      "execution_count": 11,
      "outputs": []
    },
    {
      "cell_type": "code",
      "metadata": {
        "colab": {
          "base_uri": "https://localhost:8080/",
          "height": 408
        },
        "id": "_L6rzv40C7kN",
        "outputId": "3c37ef96-f09e-49f3-f0f7-eeefbc9d8d0e"
      },
      "source": [
        "fig_path = \"/content/drive/MyDrive/Research/cmv/delta_percentage_v2.png\"\n",
        "plot_delta_percentage(df, fig_path)"
      ],
      "execution_count": 12,
      "outputs": [
        {
          "output_type": "display_data",
          "data": {
            "image/png": "[encoded data removed]",
            "text/plain": [
              "<Figure size 576x432 with 1 Axes>"
            ]
          },
          "metadata": {
            "needs_background": "light"
          }
        }
      ]
    }
  ]
}