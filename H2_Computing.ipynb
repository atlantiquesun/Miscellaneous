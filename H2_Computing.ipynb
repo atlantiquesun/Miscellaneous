{
  "nbformat": 4,
  "nbformat_minor": 0,
  "metadata": {
    "colab": {
      "name": "H2 Computing.ipynb",
      "version": "0.3.2",
      "provenance": []
    },
    "kernelspec": {
      "name": "python3",
      "display_name": "Python 3"
    }
  },
  "cells": [
    {
      "cell_type": "code",
      "metadata": {
        "id": "yvPIhlBjFfr6",
        "colab_type": "code",
        "colab": {}
      },
      "source": [
        "from random import randint, shuffle"
      ],
      "execution_count": 0,
      "outputs": []
    },
    {
      "cell_type": "markdown",
      "metadata": {
        "id": "pq6TSPFp0jJR",
        "colab_type": "text"
      },
      "source": [
        "# 0. **Miscellaneous**"
      ]
    },
    {
      "cell_type": "code",
      "metadata": {
        "id": "y57R1hgE0mBW",
        "colab_type": "code",
        "colab": {
          "base_uri": "https://localhost:8080/",
          "height": 55
        },
        "outputId": "5de02331-8a54-4bcd-df1a-97882d1a796e"
      },
      "source": [
        "#The Sieve of Eratosthenes\n",
        "\n",
        "from math import sqrt\n",
        "\n",
        "limit = 200\n",
        "l = [None]\n",
        "l.extend([True]*limit)\n",
        "l[1] = False   #1 is not a prime\n",
        "\n",
        "for i in range(2,round(sqrt(limit))):   #15*15 = 225 > 200\n",
        "  if l[i]:\n",
        "    for j in range(2*i, limit+1,i):\n",
        "      l[j] = False\n",
        "\n",
        "for i in range(1,len(l)):\n",
        "  if l[i]:\n",
        "    print(i, end = \" \")"
      ],
      "execution_count": 40,
      "outputs": [
        {
          "output_type": "stream",
          "text": [
            "2 3 5 7 11 13 17 19 23 29 31 37 41 43 47 53 59 61 67 71 73 79 83 89 97 101 103 107 109 113 127 131 137 139 149 151 157 163 167 173 179 181 191 193 197 199 "
          ],
          "name": "stdout"
        }
      ]
    },
    {
      "cell_type": "markdown",
      "metadata": {
        "id": "EpnGsJp9Gca0",
        "colab_type": "text"
      },
      "source": [
        "# **1. String Processing**"
      ]
    },
    {
      "cell_type": "markdown",
      "metadata": {
        "id": "x-LAvK9KjYNO",
        "colab_type": "text"
      },
      "source": [
        "## 1.1 **Miscellaneous**"
      ]
    },
    {
      "cell_type": "code",
      "metadata": {
        "id": "nA5SFnp-GaMx",
        "colab_type": "code",
        "colab": {
          "base_uri": "https://localhost:8080/",
          "height": 69
        },
        "outputId": "e9ab7956-e436-4231-8041-e395cab420af"
      },
      "source": [
        "#ascii\n",
        "print(ord('a'))   #from character to ascii index\n",
        "print(ord('A'))\n",
        "print(chr(65))   #reverse"
      ],
      "execution_count": 1,
      "outputs": [
        {
          "output_type": "stream",
          "text": [
            "97\n",
            "65\n",
            "A\n"
          ],
          "name": "stdout"
        }
      ]
    },
    {
      "cell_type": "code",
      "metadata": {
        "id": "YA0az2GVHFW_",
        "colab_type": "code",
        "colab": {
          "base_uri": "https://localhost:8080/",
          "height": 69
        },
        "outputId": "00c48fb2-1684-4995-e3d2-9f633c53045d"
      },
      "source": [
        "#escape sequences\n",
        "print('This --> \\\\ is a single slash.')\n",
        "print('This --> \\' is a single quotation mark.')\n",
        "print('This --> \\\" is a double quotation mark.')"
      ],
      "execution_count": 2,
      "outputs": [
        {
          "output_type": "stream",
          "text": [
            "This --> \\ is a single slash.\n",
            "This --> ' is a single quotation mark.\n",
            "This --> \" is a double quotation mark.\n"
          ],
          "name": "stdout"
        }
      ]
    },
    {
      "cell_type": "code",
      "metadata": {
        "id": "jTkByq8-H7Mh",
        "colab_type": "code",
        "colab": {
          "base_uri": "https://localhost:8080/",
          "height": 121
        },
        "outputId": "f52ea6d6-7dcf-44e1-df5e-d84307475f0f"
      },
      "source": [
        "#formatting \n",
        "\"\"\"\n",
        "1.<format string> % <datum> for formatting a single datum\n",
        "2.<format string> % (<datum-1>, ..., <datum-n>) for formatting multiple data\n",
        "3.s:string, f:float, d:integer\n",
        "\"\"\"\n",
        "print(\"%7s\"%\"hello\")   #right-justified string\n",
        "print(\"%-9s\"%\"world\")   #left-justified string\n",
        "print(\"%10d%-6d\"%(314,1592))   #integer\n",
        "print(\"%12.3f\"%3.1415926)   #round to 3.d.p\n",
        "print(\"%10s%2s%-12d\"%(\"John\",\" \",34))\n",
        "print(\"%10s%2s%-12d\"%(\"Theresa\",\" \",50))"
      ],
      "execution_count": 6,
      "outputs": [
        {
          "output_type": "stream",
          "text": [
            "  hello\n",
            "world    \n",
            "       3141592  \n",
            "       3.142\n",
            "      John  34          \n",
            "   Theresa  50          \n"
          ],
          "name": "stdout"
        }
      ]
    },
    {
      "cell_type": "markdown",
      "metadata": {
        "id": "bCei7HWZjWhY",
        "colab_type": "text"
      },
      "source": [
        "## 1.2 String Methods"
      ]
    },
    {
      "cell_type": "code",
      "metadata": {
        "id": "hOtvbEoljODK",
        "colab_type": "code",
        "colab": {
          "base_uri": "https://localhost:8080/",
          "height": 190
        },
        "outputId": "63b87401-98ef-4cb3-c765-9d44053ef496"
      },
      "source": [
        "s = 'oceania'\n",
        "print(s)\n",
        "print(s.center(10)) #centering s in a field 10-character-long\n",
        "\n",
        "print(s.count('a'))\n",
        "print(s.find('1'))\n",
        "print(s.isalpha()) #s only contains alphabetical letters?\n",
        "print(s.isdigit()) #s only contains numerical digits?\n",
        "\n",
        "s = s.upper()\n",
        "print(s)\n",
        "s = s.lower()\n",
        "print(s)\n",
        "\n",
        "s = 'This;is;a;sentence'\n",
        "l = s.split(';')\n",
        "print(l)\n",
        "s = ' '.join(l)\n",
        "print(s)"
      ],
      "execution_count": 18,
      "outputs": [
        {
          "output_type": "stream",
          "text": [
            "oceania\n",
            " oceania  \n",
            "2\n",
            "-1\n",
            "True\n",
            "False\n",
            "OCEANIA\n",
            "oceania\n",
            "['This', 'is', 'a', 'sentence']\n",
            "This is a sentence\n"
          ],
          "name": "stdout"
        }
      ]
    },
    {
      "cell_type": "code",
      "metadata": {
        "id": "v4Nv86UylTxh",
        "colab_type": "code",
        "colab": {
          "base_uri": "https://localhost:8080/",
          "height": 138
        },
        "outputId": "c47ba347-1072-4ff8-b0bb-3cc1c79bec85"
      },
      "source": [
        "l = ['This is a sentence. \\n', '   This is also a sentence','This too is a sentence   ']\n",
        "for i in l:\n",
        "  print(i)\n",
        "  print(i.strip())\n"
      ],
      "execution_count": 20,
      "outputs": [
        {
          "output_type": "stream",
          "text": [
            "This is a sentence. \n",
            "\n",
            "This is a sentence.\n",
            "   This is also a sentence\n",
            "This is also a sentence\n",
            "This too is a sentence   \n",
            "This too is a sentence\n"
          ],
          "name": "stdout"
        }
      ]
    },
    {
      "cell_type": "code",
      "metadata": {
        "id": "vUDcBXgUlz1k",
        "colab_type": "code",
        "colab": {
          "base_uri": "https://localhost:8080/",
          "height": 35
        },
        "outputId": "f7e5e9c3-a99b-43e5-85dd-4af86cb7dc94"
      },
      "source": [
        "#obtain type of the file\n",
        "filename = 'file.txt'\n",
        "print(filename.split('.')[-1])"
      ],
      "execution_count": 21,
      "outputs": [
        {
          "output_type": "stream",
          "text": [
            "txt\n"
          ],
          "name": "stdout"
        }
      ]
    },
    {
      "cell_type": "markdown",
      "metadata": {
        "id": "glt3U5IbmFju",
        "colab_type": "text"
      },
      "source": [
        "# **2. File Processing**"
      ]
    },
    {
      "cell_type": "code",
      "metadata": {
        "id": "jiS49SBLmM7e",
        "colab_type": "code",
        "colab": {}
      },
      "source": [
        "#open a file\n",
        "'''\n",
        "Different mode of opening a file\n",
        "1. 'r': read\n",
        "2. 'w': write\n",
        "3. 'rw'/ 'r+': read and write\n",
        "4.'a': append\n",
        "'''\n",
        "filename = 'file.txt'\n",
        "f = open(filename, 'r')"
      ],
      "execution_count": 0,
      "outputs": []
    },
    {
      "cell_type": "code",
      "metadata": {
        "id": "9Rs5MnTdnKu9",
        "colab_type": "code",
        "colab": {}
      },
      "source": [
        "#read file\n",
        "s = f.read()   #return the file as a single string\n",
        "l = f.readlines()   #return a list consisting of lines of the file\n",
        "\n",
        "l=[]\n",
        "line = f.readline()   #read the file line by line\n",
        "while line != '':   #return '' if the end of file is reached\n",
        "  l.append(line)\n",
        "  line = f.readline()"
      ],
      "execution_count": 0,
      "outputs": []
    },
    {
      "cell_type": "code",
      "metadata": {
        "id": "vmdRxhtUpPsA",
        "colab_type": "code",
        "colab": {}
      },
      "source": [
        "#write text to file\n",
        "f = open('file.txt', 'w')\n",
        "f.write(\"First line is this.\\n Second line is that. \\n\")"
      ],
      "execution_count": 0,
      "outputs": []
    },
    {
      "cell_type": "markdown",
      "metadata": {
        "id": "EwHKsQqHKiu5",
        "colab_type": "text"
      },
      "source": [
        "# **3. Common Modules**"
      ]
    },
    {
      "cell_type": "code",
      "metadata": {
        "id": "tLaZU2XwKmh4",
        "colab_type": "code",
        "colab": {
          "base_uri": "https://localhost:8080/",
          "height": 104
        },
        "outputId": "8f5d2d86-2d0b-4e44-fdf7-345e889b4236"
      },
      "source": [
        "#math\n",
        "import math\n",
        "print(math.pi)\n",
        "print(math.sqrt(2))\n",
        "print(math.floor(math.pi))\n",
        "print(math.ceil(math.pi*2))\n",
        "print(math.factorial(3))"
      ],
      "execution_count": 7,
      "outputs": [
        {
          "output_type": "stream",
          "text": [
            "3.141592653589793\n",
            "1.4142135623730951\n",
            "3\n",
            "7\n",
            "6\n"
          ],
          "name": "stdout"
        }
      ]
    },
    {
      "cell_type": "code",
      "metadata": {
        "id": "jmHyU4OKL0tz",
        "colab_type": "code",
        "colab": {
          "base_uri": "https://localhost:8080/",
          "height": 69
        },
        "outputId": "bf8fa024-f883-470a-e4c2-ce9af5a16b69"
      },
      "source": [
        "#random\n",
        "from random import randint, shuffle, choice\n",
        "\n",
        "for i in range(29):\n",
        "  print(randint(1,10), end = \" \")   #randint choses from an inclusive interval\n",
        "print(randint(1,10))\n",
        "\n",
        "l = [1,2,3,4,5]\n",
        "shuffle(l)   #shuffle is done inplace / to the original object\n",
        "print(l)\n",
        "\n",
        "for i in range(10):\n",
        "  print(choice(l), end=\" \")\n",
        "  \n"
      ],
      "execution_count": 11,
      "outputs": [
        {
          "output_type": "stream",
          "text": [
            "10 3 9 2 1 1 5 1 4 1 7 4 2 7 7 2 10 2 10 7 4 3 1 9 2 1 7 2 1 7\n",
            "[2, 4, 5, 1, 3]\n",
            "2 5 4 2 3 1 2 5 5 4 "
          ],
          "name": "stdout"
        }
      ]
    },
    {
      "cell_type": "markdown",
      "metadata": {
        "id": "AKmv5yTdpt7W",
        "colab_type": "text"
      },
      "source": [
        "# 4. **Objects**"
      ]
    },
    {
      "cell_type": "markdown",
      "metadata": {
        "id": "p35ihqEaqBq9",
        "colab_type": "text"
      },
      "source": [
        "## 4.1 **List**"
      ]
    },
    {
      "cell_type": "code",
      "metadata": {
        "id": "XBAaSW84pxJb",
        "colab_type": "code",
        "colab": {
          "base_uri": "https://localhost:8080/",
          "height": 121
        },
        "outputId": "f007b840-6d6f-4c70-d6ad-16eae0bb8857"
      },
      "source": [
        "l = list(range(1,6))\n",
        "print(l)\n",
        "\n",
        "l.append(6)\n",
        "print(l)\n",
        "\n",
        "l.extend(list(range(8,11)))\n",
        "print(l)\n",
        "\n",
        "l.insert(6,7)\n",
        "print(l)\n",
        "\n",
        "l.pop()\n",
        "print(l)\n",
        "\n",
        "l.pop(2)\n",
        "print(l)"
      ],
      "execution_count": 24,
      "outputs": [
        {
          "output_type": "stream",
          "text": [
            "[1, 2, 3, 4, 5]\n",
            "[1, 2, 3, 4, 5, 6]\n",
            "[1, 2, 3, 4, 5, 6, 8, 9, 10]\n",
            "[1, 2, 3, 4, 5, 6, 7, 8, 9, 10]\n",
            "[1, 2, 3, 4, 5, 6, 7, 8, 9]\n",
            "[1, 2, 4, 5, 6, 7, 8, 9]\n"
          ],
          "name": "stdout"
        }
      ]
    },
    {
      "cell_type": "code",
      "metadata": {
        "id": "uLsSDSt5rAYE",
        "colab_type": "code",
        "colab": {
          "base_uri": "https://localhost:8080/",
          "height": 104
        },
        "outputId": "87cc7399-5cc4-4302-a1af-5f8deb4296de"
      },
      "source": [
        "#sorting a list\n",
        "l = 'a b c d e f g'.split()\n",
        "\n",
        "from random import shuffle\n",
        "shuffle(l)\n",
        "print(l)\n",
        "\n",
        "l.sort()   #'.sort()' is a mutator method\n",
        "print(l)\n",
        "\n",
        "shuffle(l)\n",
        "print(l)\n",
        "\n",
        "sorted(l)   #'sorted()' is not a mutator method\n",
        "print(l)\n",
        "\n",
        "l = sorted(l)\n",
        "print(l)"
      ],
      "execution_count": 28,
      "outputs": [
        {
          "output_type": "stream",
          "text": [
            "['c', 'b', 'e', 'd', 'f', 'a', 'g']\n",
            "['a', 'b', 'c', 'd', 'e', 'f', 'g']\n",
            "['d', 'b', 'a', 'c', 'f', 'g', 'e']\n",
            "['d', 'b', 'a', 'c', 'f', 'g', 'e']\n",
            "['a', 'b', 'c', 'd', 'e', 'f', 'g']\n"
          ],
          "name": "stdout"
        }
      ]
    },
    {
      "cell_type": "markdown",
      "metadata": {
        "id": "td8P0nrcsIN7",
        "colab_type": "text"
      },
      "source": [
        "## 4.2 **Dictionary**"
      ]
    },
    {
      "cell_type": "code",
      "metadata": {
        "id": "QXcJxzhAsKbQ",
        "colab_type": "code",
        "colab": {
          "base_uri": "https://localhost:8080/",
          "height": 86
        },
        "outputId": "bd6d959e-7c49-4b77-dda8-f600b22d9e72"
      },
      "source": [
        "d = {}\n",
        "d['sarah'] = 24\n",
        "d['kiran'] = 36\n",
        "d['leo'] = 15\n",
        "d.pop('sarah')\n",
        "\n",
        "print(d.keys())\n",
        "print(d.values())\n",
        "print(d.items())\n",
        "\n",
        "d.clear()\n",
        "print(d)\n"
      ],
      "execution_count": 30,
      "outputs": [
        {
          "output_type": "stream",
          "text": [
            "dict_keys(['kiran', 'leo'])\n",
            "dict_values([36, 15])\n",
            "dict_items([('kiran', 36), ('leo', 15)])\n",
            "{}\n"
          ],
          "name": "stdout"
        }
      ]
    },
    {
      "cell_type": "markdown",
      "metadata": {
        "id": "uQiTJu8kyChj",
        "colab_type": "text"
      },
      "source": [
        "# 5. **Functions**"
      ]
    },
    {
      "cell_type": "markdown",
      "metadata": {
        "id": "hU1qogcuzMtA",
        "colab_type": "text"
      },
      "source": [
        "## 5.1 **Recursive**"
      ]
    },
    {
      "cell_type": "code",
      "metadata": {
        "id": "wWi6M1BxyEv9",
        "colab_type": "code",
        "colab": {
          "base_uri": "https://localhost:8080/",
          "height": 35
        },
        "outputId": "52bc7557-6a64-48e0-d0fd-7b0f156a795e"
      },
      "source": [
        "#Fibonacci: return the nth term of the Fibonacci Sequence\n",
        "def fib(n):\n",
        "  if n == 1 or n == 2:\n",
        "    return 1\n",
        "  else:\n",
        "    return fib(n-1) + fib(n-2)\n",
        "  \n",
        "print(fib(7))"
      ],
      "execution_count": 31,
      "outputs": [
        {
          "output_type": "stream",
          "text": [
            "13\n"
          ],
          "name": "stdout"
        }
      ]
    },
    {
      "cell_type": "code",
      "metadata": {
        "id": "Hl5eLC3wzPlY",
        "colab_type": "code",
        "colab": {
          "base_uri": "https://localhost:8080/",
          "height": 35
        },
        "outputId": "4a1dd9c3-90a8-4fd0-b663-b83902ad8d96"
      },
      "source": [
        "#Decimal to Binary\n",
        "def binary(n):\n",
        "  if n == 0:\n",
        "    return ''\n",
        "  elif n == 1:\n",
        "    return '1'\n",
        "  else:\n",
        "    digit = n%2\n",
        "    return binary(n//2) + str(digit)\n",
        "\n",
        "print(binary(73))"
      ],
      "execution_count": 34,
      "outputs": [
        {
          "output_type": "stream",
          "text": [
            "1001001\n"
          ],
          "name": "stdout"
        }
      ]
    },
    {
      "cell_type": "markdown",
      "metadata": {
        "id": "kctlAblK4ZGu",
        "colab_type": "text"
      },
      "source": [
        "# **6. Searching and Sorting**"
      ]
    },
    {
      "cell_type": "markdown",
      "metadata": {
        "id": "okF2qNJ04iAP",
        "colab_type": "text"
      },
      "source": [
        "## 6.1 **Searching**"
      ]
    },
    {
      "cell_type": "markdown",
      "metadata": {
        "id": "VP3R1ZZd98OM",
        "colab_type": "text"
      },
      "source": [
        "### **6.1.1 Binary Search**"
      ]
    },
    {
      "cell_type": "code",
      "metadata": {
        "id": "6W2xIsb84fVP",
        "colab_type": "code",
        "colab": {}
      },
      "source": [
        "#Binary Search - non-recursive\n",
        "\n",
        "def BinarySearch(l,value):\n",
        "  #assuming l is sorted in ascending order\n",
        "  low = 0\n",
        "  high = len(l) - 1\n",
        "  found = False\n",
        "  \n",
        "  while not found and low <= high:\n",
        "    mid = (low+high)//2\n",
        "    if l[mid] == value:\n",
        "      found = True\n",
        "    elif l[mid] < value:\n",
        "      low = mid + 1\n",
        "    else:\n",
        "      high = mid - 1\n",
        "  \n",
        "  return found\n",
        "      "
      ],
      "execution_count": 0,
      "outputs": []
    },
    {
      "cell_type": "code",
      "metadata": {
        "id": "lJnz9g_65aWs",
        "colab_type": "code",
        "colab": {}
      },
      "source": [
        "#Binary Search - recursive\n",
        "\n",
        "def BinarySearchrec(l,low,high,value):\n",
        "  #assuming l is sortd in ascending order\n",
        "  if low > high:\n",
        "    return False\n",
        "  else:\n",
        "    mid = (low+high) // 2\n",
        "    if l[mid] == value:\n",
        "      return True\n",
        "    elif l[mid] < value:\n",
        "      return BinarySearchrec(l, mid+1, high, value)\n",
        "    else:\n",
        "      return BinarySearchrec(l, low, mid-1, value)"
      ],
      "execution_count": 0,
      "outputs": []
    },
    {
      "cell_type": "code",
      "metadata": {
        "id": "VX5U8nDN6BQ1",
        "colab_type": "code",
        "colab": {
          "base_uri": "https://localhost:8080/",
          "height": 35
        },
        "outputId": "b0a18ecc-6d38-4620-be63-4c2d964ae8df"
      },
      "source": [
        "from random import randint\n",
        "\n",
        "l=[]\n",
        "for i in range(10):\n",
        "  l.append(randint(1,30))\n",
        "\n",
        "l.sort()\n",
        "print(l)"
      ],
      "execution_count": 53,
      "outputs": [
        {
          "output_type": "stream",
          "text": [
            "[3, 9, 14, 14, 16, 16, 21, 26, 26, 26]\n"
          ],
          "name": "stdout"
        }
      ]
    },
    {
      "cell_type": "code",
      "metadata": {
        "id": "h-osGjxb6POi",
        "colab_type": "code",
        "colab": {
          "base_uri": "https://localhost:8080/",
          "height": 86
        },
        "outputId": "3fa7e8fb-a63a-4a80-f9f1-60c2104207a7"
      },
      "source": [
        "print(BinarySearch(l, 5))\n",
        "print(BinarySearchrec(l, 0, len(l)-1, 5))\n",
        "print(BinarySearch(l, 26))\n",
        "print(BinarySearchrec(l, 0, len(l)-1, 26))"
      ],
      "execution_count": 57,
      "outputs": [
        {
          "output_type": "stream",
          "text": [
            "False\n",
            "False\n",
            "True\n",
            "True\n"
          ],
          "name": "stdout"
        }
      ]
    },
    {
      "cell_type": "markdown",
      "metadata": {
        "id": "tU9RnlBO-G3t",
        "colab_type": "text"
      },
      "source": [
        "### **6.1.2 Hashing**"
      ]
    },
    {
      "cell_type": "code",
      "metadata": {
        "id": "Dk99fCZR7d3s",
        "colab_type": "code",
        "colab": {
          "base_uri": "https://localhost:8080/",
          "height": 35
        },
        "outputId": "e47a424b-27a8-4074-ed92-be02f8d4eaf3"
      },
      "source": [
        "#Linear Probing\n",
        "l[8] = None\n",
        "key = 21\n",
        "hashh = 3 #suppose this is the hash value of the key\n",
        "\n",
        "found = False\n",
        "ptr = hashh\n",
        "nextt = l[ptr]\n",
        "\n",
        "if nextt != None:\n",
        "  if nextt == key:   #the key is at the 'hashh' position\n",
        "    found = True\n",
        "  else:\n",
        "    ptr += 1\n",
        "    nextt = l[ptr]\n",
        "    while not found and (nextt != None and ptr != hashh):   #not found, nextt is not empty, we have not returned to the starting point yet\n",
        "      if nextt == key:\n",
        "        found = True\n",
        "      else:\n",
        "        if ptr+1 == len(l):   #at the end\n",
        "          ptr = 0\n",
        "        else:\n",
        "          ptr += 1\n",
        "        nextt = l[ptr]\n",
        "\n",
        "print(found)"
      ],
      "execution_count": 59,
      "outputs": [
        {
          "output_type": "stream",
          "text": [
            "True\n"
          ],
          "name": "stdout"
        }
      ]
    },
    {
      "cell_type": "markdown",
      "metadata": {
        "id": "goNis4QQ95lD",
        "colab_type": "text"
      },
      "source": [
        "## **6.2 Sorting**"
      ]
    },
    {
      "cell_type": "code",
      "metadata": {
        "id": "fzMcDpEwE0y9",
        "colab_type": "code",
        "colab": {
          "base_uri": "https://localhost:8080/",
          "height": 52
        },
        "outputId": "3170e21d-25d3-467e-b949-325f19677ad7"
      },
      "source": [
        "def swap(l, a, b):   #mutator method\n",
        "  temp = l[a]\n",
        "  l[a] = l[b]\n",
        "  l[b] = temp\n",
        "\n",
        "l = list(range(1,6))\n",
        "print(l)\n",
        "swap(l,2,4)\n",
        "print(l)"
      ],
      "execution_count": 67,
      "outputs": [
        {
          "output_type": "stream",
          "text": [
            "[1, 2, 3, 4, 5]\n",
            "[1, 2, 5, 4, 3]\n"
          ],
          "name": "stdout"
        }
      ]
    },
    {
      "cell_type": "code",
      "metadata": {
        "id": "v958_Xd-Fxxp",
        "colab_type": "code",
        "colab": {}
      },
      "source": [
        "l=list(range(20))"
      ],
      "execution_count": 0,
      "outputs": []
    },
    {
      "cell_type": "markdown",
      "metadata": {
        "id": "IdbKUdXw-XBL",
        "colab_type": "text"
      },
      "source": [
        "### **6.2.1 O(n^2) Sort**"
      ]
    },
    {
      "cell_type": "code",
      "metadata": {
        "id": "5SftZS4i-R7_",
        "colab_type": "code",
        "colab": {
          "base_uri": "https://localhost:8080/",
          "height": 52
        },
        "outputId": "90292f7c-30f0-4143-9a31-9c649a49ebee"
      },
      "source": [
        "#Selection sort\n",
        "def SelectionSort(l):\n",
        "  for i in range(len(l)-1):\n",
        "    minindex = i\n",
        "    for j in range(i+1,len(l)):\n",
        "      if l[j] < l[minindex]:\n",
        "        minindex = j\n",
        "    swap(l, i, minindex)\n",
        "\n",
        "shuffle(l)\n",
        "print(l)\n",
        "SelectionSort(l)\n",
        "print(l)"
      ],
      "execution_count": 68,
      "outputs": [
        {
          "output_type": "stream",
          "text": [
            "[3, 5, 1, 4, 2]\n",
            "[1, 2, 3, 4, 5]\n"
          ],
          "name": "stdout"
        }
      ]
    },
    {
      "cell_type": "code",
      "metadata": {
        "id": "y87F9rWVGNLL",
        "colab_type": "code",
        "colab": {
          "base_uri": "https://localhost:8080/",
          "height": 52
        },
        "outputId": "6e663efa-fac4-4c56-ec4e-cc0aa334f34d"
      },
      "source": [
        "#Bubble sort\n",
        "def BubbleSort(l):\n",
        "  lei = len(l)-1   #lei: last exchange index\n",
        "  while lei != 0:\n",
        "    val = lei\n",
        "    lei = 0   #start from 0 everytime, in case the list is already sorted\n",
        "    for i in range(val):\n",
        "      if l[i] > l[i+1]:\n",
        "        swap(l, i, i+1)\n",
        "        lei = i\n",
        "        \n",
        "shuffle(l)\n",
        "print(l)\n",
        "BubbleSort(l)\n",
        "print(l)"
      ],
      "execution_count": 70,
      "outputs": [
        {
          "output_type": "stream",
          "text": [
            "[1, 5, 3, 4, 2]\n",
            "[1, 2, 3, 4, 5]\n"
          ],
          "name": "stdout"
        }
      ]
    },
    {
      "cell_type": "code",
      "metadata": {
        "id": "L37pjFq5Hp7R",
        "colab_type": "code",
        "colab": {
          "base_uri": "https://localhost:8080/",
          "height": 52
        },
        "outputId": "c7e8ec0c-d82e-4df5-fade-8c74427823b2"
      },
      "source": [
        "#Bubble sort v2\n",
        "def BubbleSortv(l):\n",
        "  i = len(l)-1\n",
        "  while i > 0:\n",
        "    LastExchangeIndex = 0\n",
        "    for j in range(i):\n",
        "      if l[j] > l[j+1]:\n",
        "        swap(l, j, j+1)\n",
        "        LastExchangeIndex = j\n",
        "    i = LastExchangeIndex\n",
        "    \n",
        "shuffle(l)\n",
        "print(l)\n",
        "BubbleSortv(l)\n",
        "print(l)"
      ],
      "execution_count": 71,
      "outputs": [
        {
          "output_type": "stream",
          "text": [
            "[1, 5, 2, 3, 4]\n",
            "[1, 2, 3, 4, 5]\n"
          ],
          "name": "stdout"
        }
      ]
    },
    {
      "cell_type": "code",
      "metadata": {
        "id": "1mBUMCpaIqjn",
        "colab_type": "code",
        "colab": {
          "base_uri": "https://localhost:8080/",
          "height": 121
        },
        "outputId": "e12aac2f-eb33-496d-c57e-837686746d52"
      },
      "source": [
        "#Insertion sort\n",
        "def InsertionSort(l):\n",
        "  for i in range(1, len(l)):\n",
        "    ptr = i-1\n",
        "    val = l[i]   #the item to be inserted\n",
        "    while ptr >= 0 and l[ptr] > val:\n",
        "      l[ptr+1] = l[ptr]\n",
        "      ptr -= 1\n",
        "    l[ptr+1] = val\n",
        "    print(val, l)\n",
        "\n",
        "l = list(range(1,6))\n",
        "shuffle(l)\n",
        "print(l)\n",
        "InsertionSort(l)\n",
        "print(l)"
      ],
      "execution_count": 82,
      "outputs": [
        {
          "output_type": "stream",
          "text": [
            "[1, 3, 5, 2, 4]\n",
            "3 [1, 3, 5, 2, 4]\n",
            "5 [1, 3, 5, 2, 4]\n",
            "2 [1, 2, 3, 5, 4]\n",
            "4 [1, 2, 3, 4, 5]\n",
            "[1, 2, 3, 4, 5]\n"
          ],
          "name": "stdout"
        }
      ]
    },
    {
      "cell_type": "code",
      "metadata": {
        "id": "HEEz54RVLv5m",
        "colab_type": "code",
        "colab": {
          "base_uri": "https://localhost:8080/",
          "height": 121
        },
        "outputId": "b448e6fa-e62b-48ac-c273-017d18c977e6"
      },
      "source": [
        "#Insertion sort v2\n",
        "def InsertionSortv(l):\n",
        "  for i in range(1,len(l)):\n",
        "    val = l[i]\n",
        "    j = i\n",
        "    while j > 0 and val < l[j-1]:\n",
        "      l[j] = l[j-1]\n",
        "      j -= 1\n",
        "    l[j] = val\n",
        "    print(val, l)\n",
        "    \n",
        "l = list(range(1,6))\n",
        "shuffle(l)\n",
        "print(l)\n",
        "InsertionSort(l)\n",
        "print(l)"
      ],
      "execution_count": 83,
      "outputs": [
        {
          "output_type": "stream",
          "text": [
            "[2, 5, 3, 1, 4]\n",
            "5 [2, 5, 3, 1, 4]\n",
            "3 [2, 3, 5, 1, 4]\n",
            "1 [1, 2, 3, 5, 4]\n",
            "4 [1, 2, 3, 4, 5]\n",
            "[1, 2, 3, 4, 5]\n"
          ],
          "name": "stdout"
        }
      ]
    },
    {
      "cell_type": "markdown",
      "metadata": {
        "id": "-HSsk3vgMQHD",
        "colab_type": "text"
      },
      "source": [
        "### **6.2.2 O(nlog(n)) Sort**"
      ]
    },
    {
      "cell_type": "code",
      "metadata": {
        "id": "qed44S-DMV58",
        "colab_type": "code",
        "colab": {
          "base_uri": "https://localhost:8080/",
          "height": 52
        },
        "outputId": "9863a8ad-dae2-465d-faad-8750f50fb2ee"
      },
      "source": [
        "#Quick sort\n",
        "\n",
        "def Split(l, low, high):\n",
        "  #always take the lowest index as pivot\n",
        "  pivot = l[low]\n",
        "  left = low+1\n",
        "  right = high\n",
        "  \n",
        "  while left <= right:\n",
        "    while left <= right and l[left] <= pivot:\n",
        "      left += 1\n",
        "    while l[right] > pivot:\n",
        "      right -= 1\n",
        "    if left < right:\n",
        "      swap(l, left, right)\n",
        "      \n",
        "  swap(l, low, right)\n",
        "  return right\n",
        "\n",
        "def QuickSort(l, low, high):\n",
        "  if low < high:\n",
        "    pivot = Split(l, low, high)\n",
        "    QuickSort(l, low, pivot-1)\n",
        "    QuickSort(l, pivot+1, high)\n",
        "\n",
        "    \n",
        "l = list(range(1,21))\n",
        "shuffle(l)\n",
        "print(l)\n",
        "QuickSort(l,0,len(l)-1)\n",
        "print(l)"
      ],
      "execution_count": 87,
      "outputs": [
        {
          "output_type": "stream",
          "text": [
            "[13, 18, 7, 20, 12, 14, 4, 6, 9, 3, 17, 2, 10, 5, 11, 19, 1, 16, 15, 8]\n",
            "[1, 2, 3, 4, 5, 6, 7, 8, 9, 10, 11, 12, 13, 14, 15, 16, 17, 18, 19, 20]\n"
          ],
          "name": "stdout"
        }
      ]
    },
    {
      "cell_type": "markdown",
      "metadata": {
        "id": "Oc9PaMsYTBmQ",
        "colab_type": "text"
      },
      "source": [
        "# **7. Class**"
      ]
    },
    {
      "cell_type": "code",
      "metadata": {
        "id": "b4hc3AqQTE-Z",
        "colab_type": "code",
        "colab": {
          "base_uri": "https://localhost:8080/",
          "height": 69
        },
        "outputId": "b217d083-d551-4978-bd92-61dce83c8c1a"
      },
      "source": [
        "#inheritance and polymorphism\n",
        "\n",
        "class Automobile():\n",
        "  \n",
        "  def __init__(self, am_index = None):\n",
        "    self.am_index = am_index\n",
        "    \n",
        "  def update_index(self, new_index):\n",
        "    self.am_index = new_index\n",
        "    print(\"updated\")\n",
        "    \n",
        "  def get_index(self):\n",
        "    return self.am_index\n",
        "    \n",
        "\n",
        "class Car(Automobile):\n",
        "  \n",
        "  def __init__(self, car_index = None, seat_num = None):\n",
        "    Automobile.__init__(self, am_index = car_index)\n",
        "    self.seat_num = seat_num\n",
        "  \n",
        "  def update_index(self, new_index):\n",
        "    self.am_index = new_index\n",
        "    print(\"This car's index is updated.\")\n",
        "  \n",
        "\n",
        "truck = Automobile()\n",
        "truck.update_index('hallo')\n",
        "\n",
        "benz = Car(seat_num = 6)\n",
        "benz.update_index('hello')\n",
        "\n",
        "print(benz.get_index())\n"
      ],
      "execution_count": 95,
      "outputs": [
        {
          "output_type": "stream",
          "text": [
            "updated\n",
            "This car's index is updated.\n",
            "hello\n"
          ],
          "name": "stdout"
        }
      ]
    },
    {
      "cell_type": "code",
      "metadata": {
        "id": "yr-QUAgEVwgk",
        "colab_type": "code",
        "colab": {
          "base_uri": "https://localhost:8080/",
          "height": 69
        },
        "outputId": "46a498cc-3e2c-42c5-a952-a5519b9a1256"
      },
      "source": [
        "#isinstance\n",
        "print(isinstance(benz, Car))    #returns True if the specified OBJECT is of the specified type\n",
        "print(isinstance(benz, Automobile))\n",
        "print(isinstance(Car, Automobile))"
      ],
      "execution_count": 97,
      "outputs": [
        {
          "output_type": "stream",
          "text": [
            "True\n",
            "True\n",
            "False\n"
          ],
          "name": "stdout"
        }
      ]
    },
    {
      "cell_type": "markdown",
      "metadata": {
        "id": "B7bXSAtS3aMY",
        "colab_type": "text"
      },
      "source": [
        "# **8. Data Structures**"
      ]
    },
    {
      "cell_type": "markdown",
      "metadata": {
        "id": "4aYklF95INuy",
        "colab_type": "text"
      },
      "source": [
        "## **8.1 Binary Tree**"
      ]
    },
    {
      "cell_type": "code",
      "metadata": {
        "id": "2D2mnChM3eqA",
        "colab_type": "code",
        "colab": {}
      },
      "source": [
        "class Node():\n",
        "  def __init__(self,leftP=0,rightP=0,val= None):\n",
        "    self.leftP = leftP\n",
        "    self.rightP = rightP\n",
        "    self.val = val\n",
        "\n",
        "class Tree():\n",
        "  def __init__(self, size=20):\n",
        "    self.l = [None]\n",
        "    for i in range(1,size):\n",
        "      self.l.append(Node(rightP = i+1)) #initially all connected using the right pointer\n",
        "    self.l.append(Node())\n",
        "    \n",
        "    self.root = 0   #no root initially\n",
        "    self.nextfree = 1   #the first free node\n",
        "  \n",
        "  def add_node(self,item):\n",
        "    if self.root == 0:   #the tree is still empty, add to the first node\n",
        "      self.l[1].val = item\n",
        "      self.l[1].rightP = 0 #disconnect\n",
        "      \n",
        "      self.root = 1\n",
        "      self.nextfree = 2 \n",
        "    else:\n",
        "      prev = self.root   #actually can be initialised in any manner\n",
        "      current = self.root\n",
        "      walkright = True\n",
        "      while current != 0:\n",
        "        prev = current   #need to walk down\n",
        "        if item > self.l[prev].val:\n",
        "          current = self.l[prev].rightP\n",
        "          walkright = True\n",
        "        else:\n",
        "          current = self.l[prev].leftP\n",
        "          walkright = False\n",
        "          \n",
        "      self.l[self.nextfree].val = item\n",
        "      temp = self.l[self.nextfree].rightP\n",
        "      self.l[self.nextfree].rightP = 0\n",
        "      \n",
        "      if walkright:\n",
        "        self.l[prev].rightP = self.nextfree\n",
        "      else:\n",
        "        self.l[prev].leftP = self.nextfree\n",
        "      \n",
        "      self.nextfree = temp\n",
        "  \n",
        "  def delete_node(self,index):\n",
        "    l = self.l[index].leftP\n",
        "    r = self.l[index].rightP\n",
        "    if l == 0 and r == 0:\n",
        "      self.l[index].val = None\n",
        "      self.l[index].rightP = self.nextfree\n",
        "      self.nextfree = index\n",
        "    elif l == 0 and r != 0:   #left subtree is empty\n",
        "      temp = self.l[r]\n",
        "      self.l[index].val = temp.val\n",
        "      self.l[index].leftP = temp.leftP\n",
        "      self.l[index].rightP = temp.rightP\n",
        "      self.l[r].val = None\n",
        "      self.l[r].leftP = 0\n",
        "      self.l[r].rightP = self.nextfree\n",
        "      self.nextfree = r\n",
        "    elif r == 0 and l != 0:   #left subtree is empty\n",
        "      temp = self.l[l]\n",
        "      self.l[index].val = temp.val\n",
        "      self.l[index].leftP = temp.leftP\n",
        "      self.l[index].rightP = temp.rightP\n",
        "      self.l[l].val = None\n",
        "      self.l[l].leftP = 0\n",
        "      self.l[l].rightP = self.nextfree\n",
        "      self.nextfree = l\n",
        "    else:\n",
        "      rpl = l\n",
        "      while self.l[rpl].rightP != 0:   #find the closest predecessor\n",
        "        rpl = self.l[rpl].rightP\n",
        "        \n",
        "      temp = self.l[rpl]\n",
        "      self.l[index].val = temp.val\n",
        "      self.l[index].leftP = temp.leftP   #only change left pointer \n",
        "      self.delete_node(rpl)\n",
        "          \n",
        "  def search(self,current,item):   #recursive, call as tree.search(tree.root, item)\n",
        "      if current != 0:\n",
        "        if self.l[current].val == item:\n",
        "          return current\n",
        "        else:\n",
        "          if item <= self.l[current].val:\n",
        "            return self.search(self.l[current].leftP, item)\n",
        "          else:\n",
        "            return self.search(self.l[current].rightP, item)\n",
        "      return False\n",
        "      \n",
        "  def display(self):\n",
        "    for i in range(1,21):\n",
        "      print(self.l[i].val, self.l[i].leftP, self.l[i].rightP) \n",
        "  \n",
        "  def preorder(self, current):\n",
        "    if current != 0:\n",
        "      print(self.l[current].val)\n",
        "      preorder(self, self.l[current].leftP)\n",
        "      preorder(self, self.l[current].rightP)\n",
        "      \n",
        "  def inorder(self, current):\n",
        "    if current != 0:\n",
        "      preorder(self, self.l[current].leftP)\n",
        "      print(self.l[current].val)\n",
        "      preorder(self, self.l[current].rightP)\n",
        "      \n",
        "  def postorder(self,current):\n",
        "    if current != 0:\n",
        "      preorder(self, self.l[current].leftP)\n",
        "      preorder(self, self.l[current].rightP)\n",
        "      print(self.l[current].val)      \n",
        "        \n",
        "          \n",
        "        \n",
        "      \n",
        "    "
      ],
      "execution_count": 0,
      "outputs": []
    },
    {
      "cell_type": "code",
      "metadata": {
        "id": "imMWX1JZ7kIj",
        "colab_type": "code",
        "colab": {
          "base_uri": "https://localhost:8080/",
          "height": 363
        },
        "outputId": "c7368230-c465-4113-b800-3ecd76fa51d7"
      },
      "source": [
        "tree = Tree()\n",
        "tree.add_node('Dew')\n",
        "tree.add_node('Dawn')\n",
        "tree.add_node('Isabella')\n",
        "tree.add_node('Keith')\n",
        "tree.add_node('Joshua')\n",
        "tree.add_node('Albert')\n",
        "tree.add_node('Beetrice')\n",
        "tree.add_node('Helen')\n",
        "\n",
        "tree.display()"
      ],
      "execution_count": 131,
      "outputs": [
        {
          "output_type": "stream",
          "text": [
            "Dew 2 3\n",
            "Dawn 6 0\n",
            "Isabella 8 4\n",
            "Keith 5 0\n",
            "Joshua 0 0\n",
            "Albert 0 7\n",
            "Beetrice 0 0\n",
            "Helen 0 0\n",
            "None 0 10\n",
            "None 0 11\n",
            "None 0 12\n",
            "None 0 13\n",
            "None 0 14\n",
            "None 0 15\n",
            "None 0 16\n",
            "None 0 17\n",
            "None 0 18\n",
            "None 0 19\n",
            "None 0 20\n",
            "None 0 0\n"
          ],
          "name": "stdout"
        }
      ]
    },
    {
      "cell_type": "code",
      "metadata": {
        "id": "j_Nq5CsL8RHn",
        "colab_type": "code",
        "colab": {
          "base_uri": "https://localhost:8080/",
          "height": 35
        },
        "outputId": "ff8dc605-bb04-4dd9-ec23-d8ee4eb41810"
      },
      "source": [
        "\n",
        "print(tree.search(tree.root, 'Isabella'))"
      ],
      "execution_count": 132,
      "outputs": [
        {
          "output_type": "stream",
          "text": [
            "3\n"
          ],
          "name": "stdout"
        }
      ]
    },
    {
      "cell_type": "code",
      "metadata": {
        "id": "-kIzzMML9Nw-",
        "colab_type": "code",
        "colab": {
          "base_uri": "https://localhost:8080/",
          "height": 380
        },
        "outputId": "ba777fcf-d089-4e64-fdab-b03bedf0864d"
      },
      "source": [
        "print(tree.delete_node(3))\n",
        "tree.display()"
      ],
      "execution_count": 133,
      "outputs": [
        {
          "output_type": "stream",
          "text": [
            "None\n",
            "Dew 2 3\n",
            "Dawn 6 0\n",
            "Helen 0 4\n",
            "Keith 5 0\n",
            "Joshua 0 0\n",
            "Albert 0 7\n",
            "Beetrice 0 0\n",
            "None 0 9\n",
            "None 0 10\n",
            "None 0 11\n",
            "None 0 12\n",
            "None 0 13\n",
            "None 0 14\n",
            "None 0 15\n",
            "None 0 16\n",
            "None 0 17\n",
            "None 0 18\n",
            "None 0 19\n",
            "None 0 20\n",
            "None 0 0\n"
          ],
          "name": "stdout"
        }
      ]
    },
    {
      "cell_type": "markdown",
      "metadata": {
        "id": "KmHsDLilILvy",
        "colab_type": "text"
      },
      "source": [
        "## **8.2 Linked List**"
      ]
    },
    {
      "cell_type": "code",
      "metadata": {
        "id": "ssYSn4ALIT5k",
        "colab_type": "code",
        "colab": {}
      },
      "source": [
        "class Node():\n",
        "  def __init__(self, data = None, next = None):\n",
        "    self.data = data\n",
        "    self.next = next\n",
        "\n",
        "head = None \n",
        "for count in range(1,6):\n",
        "  head = Node(count, head)   #add five node to the start of the list"
      ],
      "execution_count": 0,
      "outputs": []
    },
    {
      "cell_type": "code",
      "metadata": {
        "id": "_tVXo1y7IoIp",
        "colab_type": "code",
        "colab": {
          "base_uri": "https://localhost:8080/",
          "height": 104
        },
        "outputId": "4a0cd29d-8b34-4bf2-bb4d-64add59bd5c7"
      },
      "source": [
        "#traversal\n",
        "probe = head\n",
        "while probe != None:\n",
        "  print(probe.data)\n",
        "  probe = probe.next"
      ],
      "execution_count": 137,
      "outputs": [
        {
          "output_type": "stream",
          "text": [
            "5\n",
            "4\n",
            "3\n",
            "2\n",
            "1\n"
          ],
          "name": "stdout"
        }
      ]
    },
    {
      "cell_type": "code",
      "metadata": {
        "id": "kSqZRZyNI7qt",
        "colab_type": "code",
        "colab": {
          "base_uri": "https://localhost:8080/",
          "height": 35
        },
        "outputId": "196dc157-ffd1-411b-aeea-4b4b2101ab8c"
      },
      "source": [
        "#search by value\n",
        "target = 1\n",
        "probe = head\n",
        "while probe != None and probe.data != target:\n",
        "  probe = probe.next\n",
        "\n",
        "if probe == None:\n",
        "  print(\"not found\")\n",
        "else:\n",
        "  print(\"found\")"
      ],
      "execution_count": 143,
      "outputs": [
        {
          "output_type": "stream",
          "text": [
            "found\n"
          ],
          "name": "stdout"
        }
      ]
    },
    {
      "cell_type": "code",
      "metadata": {
        "id": "l015B99oJkwf",
        "colab_type": "code",
        "colab": {
          "base_uri": "https://localhost:8080/",
          "height": 35
        },
        "outputId": "32970666-a559-49df-9891-67fffc1bc200"
      },
      "source": [
        "#search by index\n",
        "index = 4   #assume 1-indexed\n",
        "probe = head\n",
        "value = False   #not found\n",
        "\n",
        "while index > 1 and probe != None:\n",
        "  probe = probe.next\n",
        "  index -= 1\n",
        "\n",
        "if probe != None:\n",
        "  value = probe.data\n",
        "print(value)"
      ],
      "execution_count": 145,
      "outputs": [
        {
          "output_type": "stream",
          "text": [
            "2\n"
          ],
          "name": "stdout"
        }
      ]
    },
    {
      "cell_type": "code",
      "metadata": {
        "id": "10UH1ofGbuy2",
        "colab_type": "code",
        "colab": {}
      },
      "source": [
        "#insert a new node at position 'index'\n",
        "index = 2\n",
        "value = 52\n",
        "prev = head\n",
        "probe = head\n",
        "\n",
        "if index == 1:\n",
        "  head = Node(data = value, next = head)\n",
        "else:\n",
        "  while index > 1 and probe != None:\n",
        "    prev = probe\n",
        "    probe = probe.next\n",
        "    index -= 1\n",
        "  prev.next = Node(value, prev.next)"
      ],
      "execution_count": 0,
      "outputs": []
    },
    {
      "cell_type": "markdown",
      "metadata": {
        "id": "knvtBwqWdhyt",
        "colab_type": "text"
      },
      "source": [
        "## **8.3 Queue and Stack**"
      ]
    },
    {
      "cell_type": "code",
      "metadata": {
        "id": "rX6NvVyteEoB",
        "colab_type": "code",
        "colab": {
          "base_uri": "https://localhost:8080/",
          "height": 35
        },
        "outputId": "918689e4-7350-4841-a9e2-d48ffb52ba49"
      },
      "source": [
        "#matching parenthesis using stack\n",
        "\n",
        "s = '(...)..[..{.}]..(..)'\n",
        "l = []   #stack\n",
        "left = '({['\n",
        "right = '}])'\n",
        "d = {'}':'{', ')':'(', ']':'['}\n",
        "\n",
        "flag = True   #assume valid sequence\n",
        "\n",
        "for i in s:\n",
        "  if i in left:\n",
        "    l.append(i)\n",
        "  elif i in right:\n",
        "    if len(l) == 0:\n",
        "      flag = False\n",
        "      break\n",
        "    elif d[i]!=l[-1]:\n",
        "      flag = False\n",
        "      break\n",
        "    else:\n",
        "      l = l[:-1]\n",
        "\n",
        "if len(l) != 0:\n",
        "  flag = False\n",
        "  \n",
        "print(flag)\n",
        "    "
      ],
      "execution_count": 148,
      "outputs": [
        {
          "output_type": "stream",
          "text": [
            "True\n"
          ],
          "name": "stdout"
        }
      ]
    }
  ]
}